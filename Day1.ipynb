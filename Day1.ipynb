{
 "cells": [
  {
   "cell_type": "code",
   "execution_count": 3,
   "id": "cf14f338-263b-4f3d-82b5-65465c6e7bf8",
   "metadata": {},
   "outputs": [
    {
     "name": "stdout",
     "output_type": "stream",
     "text": [
      "Value: 20, Type: <class 'int'>\n",
      "Value: 21.456, Type: <class 'float'>\n",
      "Value: Hello, Roshan!, Type: <class 'str'>\n",
      "Value: False, Type: <class 'bool'>\n"
     ]
    }
   ],
   "source": [
    "integer_var = 20\n",
    "float_var = 21.456\n",
    "string_var = \"Hello, Roshan!\"\n",
    "boolean_var = False\n",
    "\n",
    "print(f\"Value: {integer_var}, Type: {type(integer_var)}\")\n",
    "print(f\"Value: {float_var}, Type: {type(float_var)}\")\n",
    "print(f\"Value: {string_var}, Type: {type(string_var)}\")\n",
    "print(f\"Value: {boolean_var}, Type: {type(boolean_var)}\")\n"
   ]
  },
  {
   "cell_type": "code",
   "execution_count": null,
   "id": "646354d9-c8f8-41be-a95a-113696d64ea9",
   "metadata": {},
   "outputs": [],
   "source": []
  }
 ],
 "metadata": {
  "kernelspec": {
   "display_name": "Python 3 (ipykernel)",
   "language": "python",
   "name": "python3"
  },
  "language_info": {
   "codemirror_mode": {
    "name": "ipython",
    "version": 3
   },
   "file_extension": ".py",
   "mimetype": "text/x-python",
   "name": "python",
   "nbconvert_exporter": "python",
   "pygments_lexer": "ipython3",
   "version": "3.12.7"
  }
 },
 "nbformat": 4,
 "nbformat_minor": 5
}
