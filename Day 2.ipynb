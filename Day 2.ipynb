{
 "cells": [
  {
   "cell_type": "code",
   "execution_count": 1,
   "id": "d07bbf09-37b3-4552-86f3-09a276b25335",
   "metadata": {},
   "outputs": [
    {
     "name": "stdout",
     "output_type": "stream",
     "text": [
      "Element at index 0: 10\n",
      "Element at index 2: 30\n",
      "Element at index -1: 50\n"
     ]
    }
   ],
   "source": [
    "my_list = [10, 20, 30, 40, 50]\n",
    "\n",
    "print(\"Element at index 0:\", my_list[0])\n",
    "print(\"Element at index 2:\", my_list[2])\n",
    "print(\"Element at index -1:\", my_list[-1])\n"
   ]
  },
  {
   "cell_type": "code",
   "execution_count": 3,
   "id": "e998ccc1-2d26-487b-82f5-ffc3d01000e3",
   "metadata": {},
   "outputs": [
    {
     "name": "stdout",
     "output_type": "stream",
     "text": [
      "Element at index 1: 2\n",
      "Element at index 3: 4\n",
      "Element at index -2: 4\n"
     ]
    }
   ],
   "source": [
    "my_tuple = (1, 2, 3, 4, 5)\n",
    "\n",
    "print(\"Element at index 1:\", my_tuple[1])\n",
    "print(\"Element at index 3:\", my_tuple[3])\n",
    "print(\"Element at index -2:\", my_tuple[-2])\n"
   ]
  },
  {
   "cell_type": "code",
   "execution_count": null,
   "id": "7168892e-9bdc-4975-987b-c6db2ac1b4b8",
   "metadata": {},
   "outputs": [],
   "source": []
  }
 ],
 "metadata": {
  "kernelspec": {
   "display_name": "Python 3 (ipykernel)",
   "language": "python",
   "name": "python3"
  },
  "language_info": {
   "codemirror_mode": {
    "name": "ipython",
    "version": 3
   },
   "file_extension": ".py",
   "mimetype": "text/x-python",
   "name": "python",
   "nbconvert_exporter": "python",
   "pygments_lexer": "ipython3",
   "version": "3.12.7"
  }
 },
 "nbformat": 4,
 "nbformat_minor": 5
}
